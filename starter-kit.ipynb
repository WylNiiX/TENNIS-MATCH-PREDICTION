{
 "cells": [
  {
   "cell_type": "code",
   "execution_count": 2,
   "metadata": {},
   "outputs": [],
   "source": [
    "import pandas as pd\n",
    "from urllib.request import urlopen  \n",
    "import os.path as osp\n",
    "import os\n",
    "import logging\n",
    "import zipfile\n",
    "from glob import glob\n",
    "logging.getLogger().setLevel('INFO')"
   ]
  },
  {
   "cell_type": "markdown",
   "metadata": {},
   "source": [
    "## Helpers"
   ]
  },
  {
   "cell_type": "code",
   "execution_count": 3,
   "metadata": {},
   "outputs": [],
   "source": [
    "def download_file(url_str, path):\n",
    "    url = urlopen(url_str)\n",
    "    output = open(path, 'wb')       \n",
    "    output.write(url.read())\n",
    "    output.close()  \n",
    "    \n",
    "def extract_file(archive_path, target_dir):\n",
    "    zip_file = zipfile.ZipFile(archive_path, 'r')\n",
    "    zip_file.extractall(target_dir)\n",
    "    zip_file.close()"
   ]
  },
  {
   "cell_type": "markdown",
   "metadata": {},
   "source": [
    "## Download the dataset"
   ]
  },
  {
   "cell_type": "code",
   "execution_count": 4,
   "metadata": {},
   "outputs": [
    {
     "name": "stderr",
     "output_type": "stream",
     "text": [
      "INFO:root:downloading & extracting file http://tennis-data.co.uk/2000/2000.zip\n",
      "INFO:root:downloading & extracting file http://tennis-data.co.uk/2001/2001.zip\n",
      "INFO:root:downloading & extracting file http://tennis-data.co.uk/2002/2002.zip\n",
      "INFO:root:downloading & extracting file http://tennis-data.co.uk/2003/2003.zip\n",
      "INFO:root:downloading & extracting file http://tennis-data.co.uk/2004/2004.zip\n",
      "INFO:root:downloading & extracting file http://tennis-data.co.uk/2005/2005.zip\n",
      "INFO:root:downloading & extracting file http://tennis-data.co.uk/2006/2006.zip\n",
      "INFO:root:downloading & extracting file http://tennis-data.co.uk/2007/2007.zip\n",
      "INFO:root:downloading & extracting file http://tennis-data.co.uk/2008/2008.zip\n",
      "INFO:root:downloading & extracting file http://tennis-data.co.uk/2009/2009.zip\n",
      "INFO:root:downloading & extracting file http://tennis-data.co.uk/2010/2010.zip\n",
      "INFO:root:downloading & extracting file http://tennis-data.co.uk/2011/2011.zip\n",
      "INFO:root:downloading & extracting file http://tennis-data.co.uk/2012/2012.zip\n",
      "INFO:root:downloading & extracting file http://tennis-data.co.uk/2013/2013.zip\n",
      "INFO:root:downloading & extracting file http://tennis-data.co.uk/2014/2014.zip\n",
      "INFO:root:downloading & extracting file http://tennis-data.co.uk/2015/2015.zip\n",
      "INFO:root:downloading & extracting file http://tennis-data.co.uk/2016/2016.zip\n",
      "INFO:root:downloading & extracting file http://tennis-data.co.uk/2017/2017.zip\n",
      "INFO:root:downloading & extracting file http://tennis-data.co.uk/2018/2018.zip\n",
      "INFO:root:downloading & extracting file http://tennis-data.co.uk/2007w/2007.zip\n",
      "INFO:root:downloading & extracting file http://tennis-data.co.uk/2008w/2008.zip\n",
      "INFO:root:downloading & extracting file http://tennis-data.co.uk/2009w/2009.zip\n",
      "INFO:root:downloading & extracting file http://tennis-data.co.uk/2010w/2010.zip\n",
      "INFO:root:downloading & extracting file http://tennis-data.co.uk/2011w/2011.zip\n",
      "INFO:root:downloading & extracting file http://tennis-data.co.uk/2012w/2012.zip\n",
      "INFO:root:downloading & extracting file http://tennis-data.co.uk/2013w/2013.zip\n",
      "INFO:root:downloading & extracting file http://tennis-data.co.uk/2014w/2014.zip\n",
      "INFO:root:downloading & extracting file http://tennis-data.co.uk/2015w/2015.zip\n",
      "INFO:root:downloading & extracting file http://tennis-data.co.uk/2016w/2016.zip\n",
      "INFO:root:downloading & extracting file http://tennis-data.co.uk/2017w/2017.zip\n",
      "INFO:root:downloading & extracting file http://tennis-data.co.uk/2018w/2018.zip\n",
      "/Users/yahya/opt/anaconda3/lib/python3.9/site-packages/openpyxl/worksheet/_reader.py:312: UserWarning: Unknown extension is not supported and will be removed\n",
      "  warn(msg)\n",
      "/Users/yahya/opt/anaconda3/lib/python3.9/site-packages/openpyxl/worksheet/_reader.py:312: UserWarning: Unknown extension is not supported and will be removed\n",
      "  warn(msg)\n",
      "/Users/yahya/opt/anaconda3/lib/python3.9/site-packages/openpyxl/worksheet/_reader.py:312: UserWarning: Unknown extension is not supported and will be removed\n",
      "  warn(msg)\n",
      "/Users/yahya/opt/anaconda3/lib/python3.9/site-packages/openpyxl/worksheet/_reader.py:312: UserWarning: Unknown extension is not supported and will be removed\n",
      "  warn(msg)\n",
      "/Users/yahya/opt/anaconda3/lib/python3.9/site-packages/openpyxl/worksheet/_reader.py:312: UserWarning: Unknown extension is not supported and will be removed\n",
      "  warn(msg)\n",
      "/Users/yahya/opt/anaconda3/lib/python3.9/site-packages/openpyxl/worksheet/_reader.py:312: UserWarning: Unknown extension is not supported and will be removed\n",
      "  warn(msg)\n",
      "/Users/yahya/opt/anaconda3/lib/python3.9/site-packages/openpyxl/worksheet/_reader.py:312: UserWarning: Unknown extension is not supported and will be removed\n",
      "  warn(msg)\n",
      "INFO:root:52298 matches ATP in df_atp\n",
      "INFO:root:29581 matches WTA in df_wta\n"
     ]
    }
   ],
   "source": [
    "BASE_URL = 'http://tennis-data.co.uk'\n",
    "DATA_DIR = \"tennis_data\"\n",
    "ATP_DIR = './{}/ATP'.format(DATA_DIR)\n",
    "WTA_DIR = './{}/WTA'.format(DATA_DIR)\n",
    "\n",
    "ATP_URLS = [BASE_URL + \"/%i/%i.zip\" % (i,i) for i in range(2000,2019)]\n",
    "WTA_URLS = [BASE_URL + \"/%iw/%i.zip\" % (i,i) for i in range(2007,2019)]\n",
    "\n",
    "os.makedirs(osp.join(ATP_DIR, 'archives'), exist_ok=True)\n",
    "os.makedirs(osp.join(WTA_DIR, 'archives'), exist_ok=True)\n",
    "\n",
    "for files, directory in ((ATP_URLS, ATP_DIR), (WTA_URLS, WTA_DIR)):\n",
    "    for dl_path in files:\n",
    "        logging.info(\"downloading & extracting file %s\", dl_path)\n",
    "        archive_path = osp.join(directory, 'archives', osp.basename(dl_path))\n",
    "        download_file(dl_path, archive_path)\n",
    "        extract_file(archive_path, directory)\n",
    "    \n",
    "ATP_FILES = sorted(glob(\"%s/*.xls*\" % ATP_DIR))\n",
    "WTA_FILES = sorted(glob(\"%s/*.xls*\" % WTA_DIR))\n",
    "\n",
    "df_atp = pd.concat([pd.read_excel(f) for f in ATP_FILES], ignore_index=True)\n",
    "df_wta = pd.concat([pd.read_excel(f) for f in WTA_FILES], ignore_index=True)\n",
    "\n",
    "logging.info(\"%i matches ATP in df_atp\", df_atp.shape[0])\n",
    "logging.info(\"%i matches WTA in df_wta\", df_wta.shape[0])"
   ]
  },
  {
   "cell_type": "markdown",
   "metadata": {},
   "source": [
    "## Your work"
   ]
  },
  {
   "cell_type": "code",
   "execution_count": 8,
   "metadata": {},
   "outputs": [
    {
     "data": {
      "text/plain": [
       "Index(['ATP', 'Location', 'Tournament', 'Date', 'Series', 'Court', 'Surface',\n",
       "       'Round', 'Best of', 'Winner', 'Loser', 'WRank', 'LRank', 'W1', 'L1',\n",
       "       'W2', 'L2', 'W3', 'L3', 'W4', 'L4', 'W5', 'L5', 'Wsets', 'Lsets',\n",
       "       'Comment', 'CBW', 'CBL', 'GBW', 'GBL', 'IWW', 'IWL', 'SBW', 'SBL',\n",
       "       'B365W', 'B365L', 'B&WW', 'B&WL', 'EXW', 'EXL', 'PSW', 'PSL', 'WPts',\n",
       "       'LPts', 'UBW', 'UBL', 'LBW', 'LBL', 'SJW', 'SJL', 'MaxW', 'MaxL',\n",
       "       'AvgW', 'AvgL'],\n",
       "      dtype='object')"
      ]
     },
     "execution_count": 8,
     "metadata": {},
     "output_type": "execute_result"
    }
   ],
   "source": [
    "df_atp.columns"
   ]
  },
  {
   "cell_type": "markdown",
   "metadata": {},
   "source": [
    "## 1 Who are the three ATP players with the most wins?"
   ]
  },
  {
   "cell_type": "code",
   "execution_count": 27,
   "metadata": {},
   "outputs": [
    {
     "name": "stdout",
     "output_type": "stream",
     "text": [
      "Federer R. : 1121\n"
     ]
    }
   ],
   "source": [
    "winners = df_atp.groupby([\"Winner\"])[\"Winner\"].count()\n",
    "print(str(winners.idxmax()) + \" : \" + str(winners.max()))"
   ]
  },
  {
   "cell_type": "code",
   "execution_count": null,
   "metadata": {},
   "outputs": [],
   "source": []
  }
 ],
 "metadata": {
  "kernelspec": {
   "display_name": "Python 3 (ipykernel)",
   "language": "python",
   "name": "python3"
  },
  "language_info": {
   "codemirror_mode": {
    "name": "ipython",
    "version": 3
   },
   "file_extension": ".py",
   "mimetype": "text/x-python",
   "name": "python",
   "nbconvert_exporter": "python",
   "pygments_lexer": "ipython3",
   "version": "3.9.12"
  }
 },
 "nbformat": 4,
 "nbformat_minor": 2
}
